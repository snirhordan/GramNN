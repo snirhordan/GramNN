{
 "cells": [
  {
   "cell_type": "code",
   "execution_count": 1,
   "id": "7c6810b1",
   "metadata": {},
   "outputs": [],
   "source": [
    "from schnetpack.data import ASEAtomsData,AtomsLoader\n",
    "from schnetpack.transform import ASENeighborList\n",
    "import os\n",
    "import schnetpack as spk\n",
    "import schnetpack.transform as trn\n",
    "import ase\n",
    "import torch\n",
    "import numpy as np\n",
    "from tqdm import tqdm\n",
    "from matplotlib import pyplot as plt"
   ]
  },
  {
   "cell_type": "code",
   "execution_count": 2,
   "id": "3a4d45fa",
   "metadata": {},
   "outputs": [],
   "source": [
    "torch.manual_seed(0)\n",
    "np.random.seed(0)"
   ]
  },
  {
   "cell_type": "code",
   "execution_count": 3,
   "id": "bf93f60f",
   "metadata": {},
   "outputs": [],
   "source": [
    "def get_distance(first, second):\n",
    "    delta = first - second\n",
    "    return np.sqrt(np.sum(delta ** 2))\n",
    "\n",
    "def get_sides(coordinates):\n",
    "    r1 = get_distance(coordinates[0], coordinates[1])\n",
    "    r2 = get_distance(coordinates[0], coordinates[2])\n",
    "    r3 = get_distance(coordinates[1], coordinates[2])\n",
    "    \n",
    "    return r1, r2, r3\n",
    "\n",
    "def good_triangle(coordinates, epsilon = 0.1):\n",
    "    r1, r2, r3 = get_sides(coordinates)\n",
    "    if (r1 < epsilon) or (r2 < epsilon) or (r3 < epsilon):\n",
    "        return False\n",
    "    else:\n",
    "        return True\n",
    "    \n",
    "def get_angle(r1, r2, r3):\n",
    "    return (r1 * r1 + r2 * r2 - r3 * r3) / (2.0 * r1 * r2)\n",
    "\n",
    "def compute_angles(coordinates):\n",
    "    r1, r2, r3 = get_sides(coordinates)\n",
    "    first = get_angle(r1, r2, r3)\n",
    "    second = get_angle(r1, r3, r2)\n",
    "    third = get_angle(r2, r3, r1)\n",
    "    return [first, second, third]\n",
    "\n",
    "def generate_triangle():\n",
    "    coordinates = np.random.uniform(-1, 1, size = [3, 3])\n",
    "    if not good_triangle(coordinates):\n",
    "        return generate_triangle()\n",
    "    angles = compute_angles(coordinates)\n",
    "    structure = ase.Atoms(positions = coordinates, numbers = [1, 1, 1])\n",
    "    \n",
    "    return structure, angles"
   ]
  },
  {
   "cell_type": "code",
   "execution_count": 4,
   "id": "f3a44f29",
   "metadata": {},
   "outputs": [],
   "source": [
    "def generate_dataset(path, size):\n",
    "    raw_data = [generate_triangle() for _ in range(size)]\n",
    "    atoms_list = []\n",
    "    property_list = []\n",
    "\n",
    "    for structure, angles in raw_data:\n",
    "        atoms_list.append(structure)\n",
    "        property_list.append({\"angle_cosines\": angles})\n",
    "    os.remove(path)\n",
    "    dataset = ASEAtomsData.create(\n",
    "        path,\n",
    "        distance_unit='Ang',\n",
    "        transforms = [\n",
    "            trn.ASENeighborList(cutoff=5.),       \n",
    "            trn.CastTo32()\n",
    "        ],\n",
    "        property_unit_dict={'angle_cosines':'unit'}\n",
    "    )\n",
    "    dataset.add_systems(property_list, atoms_list)\n",
    "    return dataset"
   ]
  },
  {
   "cell_type": "code",
   "execution_count": 5,
   "id": "3b8b5dae",
   "metadata": {},
   "outputs": [],
   "source": [
    "train_dataset = generate_dataset('./triangles_train.db', 900)\n",
    "val_dataset = generate_dataset('./triangles_val.db', 100)\n",
    "test_dataset = generate_dataset('./triangles_test.db', 100)\n",
    "\n",
    "batch_size = 100\n",
    "train_loader = AtomsLoader(dataset = train_dataset, batch_size = batch_size, shuffle = True)\n",
    "val_loader = AtomsLoader(dataset = val_dataset, batch_size = batch_size)\n",
    "test_loader = AtomsLoader(dataset = test_dataset, batch_size = batch_size)"
   ]
  },
  {
   "cell_type": "code",
   "execution_count": 6,
   "id": "59c27d12",
   "metadata": {},
   "outputs": [],
   "source": [
    "class Model(torch.nn.Module):\n",
    "    def __init__(self):\n",
    "        super(Model, self).__init__()\n",
    "        cutoff = 5.\n",
    "        n_atom_basis = 30\n",
    "        radial_basis = spk.nn.GaussianRBF(n_rbf=20, cutoff=cutoff)\n",
    "        self.schnet = spk.representation.SchNet(\n",
    "            n_atom_basis=n_atom_basis, n_interactions=2,\n",
    "            radial_basis=radial_basis,\n",
    "            cutoff_fn=spk.nn.CosineCutoff(cutoff)\n",
    "        )\n",
    "\n",
    "\n",
    "        self.pairwise_distance = spk.atomistic.PairwiseDistances()\n",
    "        self.head = torch.nn.Sequential(torch.nn.Linear(30, 128), torch.nn.ReLU(), \n",
    "                                        torch.nn.Linear(128, 1))\n",
    "    def forward(self, batch):\n",
    "        return self.head(self.schnet(self.pairwise_distance(batch))['scalar_representation'])[:, 0]\n",
    "    \n",
    "    "
   ]
  },
  {
   "cell_type": "code",
   "execution_count": 7,
   "id": "ca6b2ed6",
   "metadata": {},
   "outputs": [
    {
     "name": "stderr",
     "output_type": "stream",
     "text": [
      "train rmse: 0.009913724847137928; val rmse: 0.016448887065052986: 100%|█| 1000/1\n"
     ]
    }
   ],
   "source": [
    "def get_loss(predictions, targets):\n",
    "    delta = predictions - targets\n",
    "    return torch.mean(delta * delta)\n",
    "\n",
    "def get_rmse(first, second):\n",
    "    delta = first - second\n",
    "    return np.sqrt(np.mean(delta * delta))\n",
    "\n",
    "model = Model().cuda()\n",
    "optim = torch.optim.Adam(model.parameters(), lr = 1e-4)\n",
    "epoch_num = 1000\n",
    "pbar = tqdm(range(epoch_num))\n",
    "for _ in pbar:\n",
    "    predictions_train, targets_train = [], []\n",
    "    for batch in train_loader:\n",
    "        for key in batch.keys():\n",
    "            batch[key] = batch[key].cuda()\n",
    "        predictions = model(batch)\n",
    "        targets = batch['angle_cosines']\n",
    "        loss = get_loss(predictions, targets)\n",
    "        loss.backward()\n",
    "        optim.step()\n",
    "        optim.zero_grad()\n",
    "        \n",
    "        predictions_train.append(predictions.data.cpu().numpy())\n",
    "        targets_train.append(targets.data.cpu().numpy())\n",
    "        \n",
    "        \n",
    "    predictions_val, targets_val = [], []\n",
    "    for batch in val_loader:\n",
    "        for key in batch.keys():\n",
    "            batch[key] = batch[key].cuda()\n",
    "        predictions = model(batch)\n",
    "        targets = batch['angle_cosines']\n",
    "        \n",
    "        predictions_val.append(predictions.data.cpu().numpy())\n",
    "        targets_val.append(targets.data.cpu().numpy())\n",
    "        \n",
    "        \n",
    "    predictions_train = np.concatenate(predictions_train, axis = 0)\n",
    "    predictions_val = np.concatenate(predictions_val, axis = 0)\n",
    "    targets_train = np.concatenate(targets_train, axis = 0)\n",
    "    targets_val = np.concatenate(targets_val, axis = 0)\n",
    "    \n",
    "    \n",
    "    train_rmse = get_rmse(predictions_train, targets_train)\n",
    "    val_rmse = get_rmse(predictions_val, targets_val)\n",
    "    pbar.set_description(f'train rmse: {train_rmse}; val rmse: {val_rmse}')\n",
    "        "
   ]
  },
  {
   "cell_type": "code",
   "execution_count": 8,
   "id": "119b5524",
   "metadata": {},
   "outputs": [],
   "source": [
    "predictions_test, targets_test = [], []\n",
    "for batch in test_loader:\n",
    "    for key in batch.keys():\n",
    "        batch[key] = batch[key].cuda()\n",
    "    predictions = model(batch)\n",
    "    targets = batch['angle_cosines']\n",
    "\n",
    "    predictions_test.append(predictions.data.cpu().numpy())\n",
    "    targets_test.append(targets.data.cpu().numpy())\n",
    "    \n",
    "predictions_test = np.concatenate(predictions_test, axis = 0)\n",
    "targets_test = np.concatenate(targets_test, axis = 0)\n",
    "    "
   ]
  },
  {
   "cell_type": "code",
   "execution_count": 9,
   "id": "057efafa",
   "metadata": {},
   "outputs": [
    {
     "data": {
      "image/png": "[encoded data removed]",
      "text/plain": [
       "<Figure size 300x300 with 1 Axes>"
      ]
     },
     "metadata": {},
     "output_type": "display_data"
    }
   ],
   "source": [
    "plt.figure(figsize = (3, 3))\n",
    "plt.plot(predictions_test, targets_test, 'o', markersize = 1)\n",
    "plt.xlabel(\"ground truth cos(angle)\")\n",
    "plt.ylabel(\"test predicted cos(angle)\")\n",
    "plt.savefig(\"predictions.png\", dpi = 900, bbox_inches = 'tight')\n",
    "plt.show()"
   ]
  },
  {
   "cell_type": "code",
   "execution_count": null,
   "id": "12e0d5c4",
   "metadata": {},
   "outputs": [],
   "source": []
  },
  {
   "cell_type": "code",
   "execution_count": null,
   "id": "cf5aa3b9",
   "metadata": {},
   "outputs": [],
   "source": []
  },
  {
   "cell_type": "code",
   "execution_count": null,
   "id": "2d1ecf82",
   "metadata": {},
   "outputs": [],
   "source": []
  },
  {
   "cell_type": "code",
   "execution_count": null,
   "id": "1dc43353",
   "metadata": {},
   "outputs": [],
   "source": []
  }
 ],
 "metadata": {
  "kernelspec": {
   "display_name": "Python 3 (ipykernel)",
   "language": "python",
   "name": "python3"
  },
  "language_info": {
   "codemirror_mode": {
    "name": "ipython",
    "version": 3
   },
   "file_extension": ".py",
   "mimetype": "text/x-python",
   "name": "python",
   "nbconvert_exporter": "python",
   "pygments_lexer": "ipython3",
   "version": "3.9.13"
  }
 },
 "nbformat": 4,
 "nbformat_minor": 5
}
